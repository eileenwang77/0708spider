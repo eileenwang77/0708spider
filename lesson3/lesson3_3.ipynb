{
 "cells": [
  {
   "cell_type": "code",
   "execution_count": 14,
   "id": "6850c10f",
   "metadata": {},
   "outputs": [],
   "source": [
    "class Site:\n",
    "    def __init__(self,sitename, county, aqi, pollutant, status, pm25, pm10, latitude, longitude, datacreationdate):\n",
    "        self.sitename = sitename\n",
    "        self.county = county        \n",
    "        self.aqi = aqi\n",
    "        self.pollutant = pollutant\n",
    "        self.status = status\n",
    "        self.pm25 = pm25\n",
    "        self.pm10 = pm10        \n",
    "        self.latitude = latitude\n",
    "        self.longitude = longitude\n",
    "        self.datacreationdate = datacreationdate\n",
    " \n",
    "    \n",
    "\n",
    "# s1=Site()\n",
    "# type(s1)"
   ]
  },
  {
   "cell_type": "code",
   "execution_count": 16,
   "id": "e1c555bb",
   "metadata": {},
   "outputs": [
    {
     "name": "stdout",
     "output_type": "stream",
     "text": [
      "---------------------\n",
      "站點名稱: 屏東(枋山)\n",
      "縣市: 屏東縣\n",
      "空氣品質指標: 55\n",
      "主要污染物: 懸浮微粒\n",
      "狀態: 普通\n",
      "PM2.5: 10\n",
      "PM10: 31\n",
      "緯度: 22.260899\n",
      "經度: 120.651472\n",
      "資料建立日期: 2025-07-15 10:00\n"
     ]
    }
   ],
   "source": [
    "import json\n",
    "from pprint import pprint\n",
    "\n",
    "# def load_json_file():\n",
    "#     with open('aqx_p_488.json', 'r', encoding='utf-8') as f:\n",
    "#         data = json.load(f)\n",
    "#     return data\n",
    "\n",
    "# f=open('aqx_p_488.json', 'r', encoding='utf-8') \n",
    "# data=json.load(f)\n",
    "# f.close()\n",
    "\n",
    "with open('aqx_p_488.json', 'r', encoding='utf-8') as f:\n",
    "        data = json.load(f)\n",
    "#pprint(data)\n",
    "\n",
    "for sitename in data['records']:\n",
    "        s1=Site(\n",
    "                sitename=sitename['sitename'],\n",
    "                county=sitename['county'],      \n",
    "                aqi=sitename['aqi'],\n",
    "                pollutant=sitename['pollutant'],\n",
    "                status=sitename['status'],\n",
    "                pm25=sitename['pm2.5'],\n",
    "                pm10=sitename['pm10'],\n",
    "                latitude=sitename['latitude'],\n",
    "                longitude=sitename['longitude'],\n",
    "                datacreationdate=sitename['datacreationdate']\n",
    "                    )  # Create a new instance of Site 初始化\n",
    "        # s1.sitename= sitename['sitename']\n",
    "        # s1.county= sitename['county']\n",
    "        # s1.aqi= sitename['aqi']     \n",
    "        # s1.pollutant= sitename['pollutant']\n",
    "        # s1.status= sitename['status']       \n",
    "        # s1.pm2_5= sitename['pm2.5']\n",
    "        # s1.pm10= sitename['pm10']               \n",
    "        # s1.latitude= sitename['latitude']\n",
    "        # s1.longitude= sitename['longitude']\n",
    "        # s1.datacreationdate= sitename['datacreationdate']\n",
    "        # print(sitename['county'])\n",
    "        # print(sitename['aqi'])\n",
    "        # print(sitename['pollutant'])\n",
    "        # print(sitename['status'])\n",
    "        # print(sitename['pm2.5'])\n",
    "        # print(sitename['pm10'])\n",
    "        # print(sitename['latitude'])\n",
    "        # print(sitename['longitude'])\n",
    "        # print(sitename['datacreationdate'])\n",
    "        print('---------------------')\n",
    "        break\n",
    "print(\"站點名稱:\",s1.sitename)  \n",
    "print(\"縣市:\",s1.county)\n",
    "print(\"空氣品質指標:\",s1.aqi)   \n",
    "print(\"主要污染物:\",s1.pollutant)\n",
    "print(\"狀態:\",s1.status)\n",
    "print(\"PM2.5:\",s1.pm25)\n",
    "print(\"PM10:\",s1.pm10)\n",
    "print(\"緯度:\",s1.latitude)\n",
    "print(\"經度:\",s1.longitude)\n",
    "print(\"資料建立日期:\",s1.datacreationdate) \n",
    "\n"
   ]
  }
 ],
 "metadata": {
  "kernelspec": {
   "display_name": "venv1",
   "language": "python",
   "name": "python3"
  },
  "language_info": {
   "codemirror_mode": {
    "name": "ipython",
    "version": 3
   },
   "file_extension": ".py",
   "mimetype": "text/x-python",
   "name": "python",
   "nbconvert_exporter": "python",
   "pygments_lexer": "ipython3",
   "version": "3.11.13"
  }
 },
 "nbformat": 4,
 "nbformat_minor": 5
}
