{
 "cells": [
  {
   "cell_type": "code",
   "execution_count": null,
   "id": "e21e87f8",
   "metadata": {},
   "outputs": [
    {
     "ename": "NameError",
     "evalue": "name '__file__' is not defined",
     "output_type": "error",
     "traceback": [
      "\u001b[31m---------------------------------------------------------------------------\u001b[39m",
      "\u001b[31mNameError\u001b[39m                                 Traceback (most recent call last)",
      "\u001b[36mCell\u001b[39m\u001b[36m \u001b[39m\u001b[32mIn[3]\u001b[39m\u001b[32m, line 8\u001b[39m\n\u001b[32m      5\u001b[39m         \u001b[38;5;28;01mreturn\u001b[39;00m json.load(f)\n\u001b[32m      7\u001b[39m \u001b[38;5;66;03m# 假設檔案放在 data/pokemon_list.json 下\u001b[39;00m\n\u001b[32m----> \u001b[39m\u001b[32m8\u001b[39m base = os.path.dirname(\u001b[34;43m__file__\u001b[39;49m)\n\u001b[32m      9\u001b[39m pokedex = load_pokedex_json(os.path.join(base, \u001b[33m'\u001b[39m\u001b[33mdata\u001b[39m\u001b[33m'\u001b[39m, \u001b[33m'\u001b[39m\u001b[33mpokemon_list.json\u001b[39m\u001b[33m'\u001b[39m))\n\u001b[32m     10\u001b[39m \u001b[38;5;28mprint\u001b[39m(\u001b[38;5;28mlen\u001b[39m(pokedex), pokedex[:\u001b[32m3\u001b[39m])  \u001b[38;5;66;03m# 取得前三筆資料\u001b[39;00m\n",
      "\u001b[31mNameError\u001b[39m: name '__file__' is not defined"
     ]
    }
   ],
   "source": [
    "import json, os\n",
    "\n",
    "def load_pokedex_json(path: str):\n",
    "    with open(path, 'r', encoding='utf-8') as f:\n",
    "        return json.load(f)\n",
    "\n",
    "# 假設檔案放在 data/pokemon_list.json 下\n",
    "base = os.path.dirname(__file__)\n",
    "pokedex = load_pokedex_json(os.path.join(base, 'data', 'pokemon_list.json'))\n",
    "\n",
    "\n",
    "print(len(pokedex), pokedex[:3])  # 取得前三筆資料"
   ]
  }
 ],
 "metadata": {
  "kernelspec": {
   "display_name": "venv1",
   "language": "python",
   "name": "python3"
  },
  "language_info": {
   "codemirror_mode": {
    "name": "ipython",
    "version": 3
   },
   "file_extension": ".py",
   "mimetype": "text/x-python",
   "name": "python",
   "nbconvert_exporter": "python",
   "pygments_lexer": "ipython3",
   "version": "3.11.13"
  }
 },
 "nbformat": 4,
 "nbformat_minor": 5
}
