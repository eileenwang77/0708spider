{
 "cells": [
  {
   "cell_type": "code",
   "execution_count": 3,
   "id": "66589460",
   "metadata": {},
   "outputs": [
    {
     "name": "stdout",
     "output_type": "stream",
     "text": [
      "15\n"
     ]
    }
   ],
   "source": [
    "def add_number(a,b):\n",
    "    return a+b\n",
    "\n",
    "s= add_number(5,10)\n",
    "print(s)"
   ]
  },
  {
   "cell_type": "code",
   "execution_count": 4,
   "id": "ae30aed4",
   "metadata": {},
   "outputs": [
    {
     "name": "stdout",
     "output_type": "stream",
     "text": [
      "[1, 2, 3, 4, 6, 7]\n"
     ]
    }
   ],
   "source": [
    "def merge_and_sort_lists(list1: list[int], list2: list[int]) -> list[int]:\n",
    "    merged_list = list1 + list2          # 合併兩個 list\n",
    "    merged_list.sort()                   # 就地排序（由小到大）\n",
    "    return merged_list \n",
    "\n",
    "def merge_and_sort_lists1(list1: list[int], list2: list[int]) -> list[int]:\n",
    "    return sorted(list1 + list2)\n",
    "\n",
    "a = [3, 1, 7]\n",
    "b = [6, 2, 4]\n",
    "\n",
    "result = merge_and_sort_lists(a, b)\n",
    "print(result)  # 輸出: [1, 2, 3, 4, 6, 7]"
   ]
  },
  {
   "cell_type": "code",
   "execution_count": 9,
   "id": "e7962824",
   "metadata": {},
   "outputs": [
    {
     "name": "stdout",
     "output_type": "stream",
     "text": [
      "[68, 81, 43]\n",
      "[72, 37, 8, 81, 32]\n",
      "[8, 32, 37, 43, 68, 72, 81, 81]\n"
     ]
    }
   ],
   "source": [
    "import random   #module\n",
    "# 亂數產生10個1-100的整數 list\n",
    "r1=[random.randint(1,100) for _ in range(3)] #0-9  _省略運算子,不接收\n",
    "print(r1)\n",
    "\n",
    "r2=[random.randint(1,100) for _ in range(5)]\n",
    "print(r2)\n",
    "\n",
    "result = merge_and_sort_lists(r1, r2)\n",
    "print(result) "
   ]
  }
 ],
 "metadata": {
  "kernelspec": {
   "display_name": "venv1",
   "language": "python",
   "name": "python3"
  },
  "language_info": {
   "codemirror_mode": {
    "name": "ipython",
    "version": 3
   },
   "file_extension": ".py",
   "mimetype": "text/x-python",
   "name": "python",
   "nbconvert_exporter": "python",
   "pygments_lexer": "ipython3",
   "version": "3.11.13"
  }
 },
 "nbformat": 4,
 "nbformat_minor": 5
}
