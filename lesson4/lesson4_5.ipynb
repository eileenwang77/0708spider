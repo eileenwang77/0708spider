{
 "cells": [
  {
   "cell_type": "code",
   "execution_count": null,
   "id": "c6078fe8",
   "metadata": {},
   "outputs": [],
   "source": [
    "from playwright.async_api import async_playwright\n",
    "import asyncio      \n",
    "import nest_asyncio\n",
    "\n"
   ]
  }
 ],
 "metadata": {
  "language_info": {
   "name": "python"
  }
 },
 "nbformat": 4,
 "nbformat_minor": 5
}
