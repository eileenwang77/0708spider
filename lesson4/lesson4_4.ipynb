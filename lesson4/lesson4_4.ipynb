{
 "cells": [
  {
   "cell_type": "code",
   "execution_count": 3,
   "id": "558c81e3",
   "metadata": {},
   "outputs": [
    {
     "name": "stdout",
     "output_type": "stream",
     "text": [
      "開始任務 1\n",
      "開始任務 2\n",
      "任務 1 完成\n",
      "任務 2 完成\n",
      "總耗時: 2.00 秒\n"
     ]
    }
   ],
   "source": [
    "#範例 4.2：模擬非同步網路請求\n",
    "\n",
    "import asyncio\n",
    "import time\n",
    "import nest_asyncio\n",
    "nest_asyncio.apply()  # 允許在 Jupyter Notebook 中使用 asyncio\n",
    "\n",
    "async def task(id, delay):\n",
    "    print(f\"開始任務 {id}\")\n",
    "    await asyncio.sleep(delay)\n",
    "    print(f\"任務 {id} 完成\")\n",
    "\n",
    "\n",
    "\n",
    "async def main():\n",
    "    start = time.time()\n",
    "    tasks = [task(1,1), task(2, 2)]\n",
    "    await asyncio.gather(*tasks)\n",
    "    print(f\"總耗時: {time.time() - start:.2f} 秒\")\n",
    "\n",
    "asyncio.run(main())"
   ]
  },
  {
   "cell_type": "code",
   "execution_count": 4,
   "id": "7e71a42c",
   "metadata": {},
   "outputs": [
    {
     "ename": "ModuleNotFoundError",
     "evalue": "No module named 'crawl4ai'",
     "output_type": "error",
     "traceback": [
      "\u001b[31m---------------------------------------------------------------------------\u001b[39m",
      "\u001b[31mModuleNotFoundError\u001b[39m                       Traceback (most recent call last)",
      "\u001b[36mCell\u001b[39m\u001b[36m \u001b[39m\u001b[32mIn[4]\u001b[39m\u001b[32m, line 1\u001b[39m\n\u001b[32m----> \u001b[39m\u001b[32m1\u001b[39m \u001b[38;5;28;01mimport\u001b[39;00m\u001b[38;5;250m \u001b[39m\u001b[34;01mcrawl4ai\u001b[39;00m\n\u001b[32m      2\u001b[39m \u001b[38;5;28mprint\u001b[39m(crawl4ai.__version__.__version__)\n",
      "\u001b[31mModuleNotFoundError\u001b[39m: No module named 'crawl4ai'"
     ]
    }
   ],
   "source": [
    "import crawl4ai\n",
    "print(crawl4ai.__version__.__version__)"
   ]
  },
  {
   "cell_type": "code",
   "execution_count": null,
   "id": "e8e85026",
   "metadata": {},
   "outputs": [],
   "source": []
  }
 ],
 "metadata": {
  "kernelspec": {
   "display_name": "web_crawler",
   "language": "python",
   "name": "python3"
  },
  "language_info": {
   "codemirror_mode": {
    "name": "ipython",
    "version": 3
   },
   "file_extension": ".py",
   "mimetype": "text/x-python",
   "name": "python",
   "nbconvert_exporter": "python",
   "pygments_lexer": "ipython3",
   "version": "3.11.13"
  }
 },
 "nbformat": 4,
 "nbformat_minor": 5
}
