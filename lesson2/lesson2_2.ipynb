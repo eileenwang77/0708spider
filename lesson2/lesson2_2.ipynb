{
 "cells": [
  {
   "cell_type": "markdown",
   "id": "691fb5eb",
   "metadata": {},
   "source": [
    "### python 基礎"
   ]
  },
  {
   "cell_type": "code",
   "execution_count": 4,
   "id": "7b500f37",
   "metadata": {},
   "outputs": [
    {
     "name": "stdout",
     "output_type": "stream",
     "text": [
      "hello ! Python! \n"
     ]
    }
   ],
   "source": [
    "print(\"hello ! Python! \")"
   ]
  },
  {
   "cell_type": "code",
   "execution_count": 5,
   "id": "f016e046",
   "metadata": {},
   "outputs": [
    {
     "name": "stdout",
     "output_type": "stream",
     "text": [
      "Alice\n",
      "25\n",
      "1.65\n",
      "True\n"
     ]
    }
   ],
   "source": [
    "name = \"Alice\"         # 字串（string）\n",
    "age = 25               # 整數（integer）\n",
    "height = 1.65          # 浮點數（float）\n",
    "is_student = True      # 布林值（boolean）\n",
    "\n",
    "print(name)\n",
    "print(age)\n",
    "print(height)\n",
    "print(is_student)"
   ]
  },
  {
   "cell_type": "code",
   "execution_count": 6,
   "id": "8027e1f9",
   "metadata": {},
   "outputs": [
    {
     "name": "stdout",
     "output_type": "stream",
     "text": [
      "sum:  15\n"
     ]
    }
   ],
   "source": [
    "a=10\n",
    "b=5\n",
    "sum=a+b\n",
    "print(\"sum: \",sum)"
   ]
  },
  {
   "cell_type": "code",
   "execution_count": 7,
   "id": "30a43acf",
   "metadata": {},
   "outputs": [
    {
     "name": "stdout",
     "output_type": "stream",
     "text": [
      "100000\n"
     ]
    }
   ],
   "source": [
    "print(a**b)"
   ]
  },
  {
   "cell_type": "code",
   "execution_count": 8,
   "id": "65dbf3f1",
   "metadata": {},
   "outputs": [
    {
     "name": "stdout",
     "output_type": "stream",
     "text": [
      "10 5 15\n"
     ]
    }
   ],
   "source": [
    "print(a,b,sum)"
   ]
  },
  {
   "cell_type": "code",
   "execution_count": 10,
   "id": "39bf5825",
   "metadata": {},
   "outputs": [
    {
     "name": "stdout",
     "output_type": "stream",
     "text": [
      "hello*python?*Eileen!!\n"
     ]
    }
   ],
   "source": [
    "print(\"hello\",\"python?\",\"Eileen\",sep='*',end='!!\\n')"
   ]
  },
  {
   "cell_type": "markdown",
   "id": "39465a56",
   "metadata": {},
   "source": []
  }
 ],
 "metadata": {
  "kernelspec": {
   "display_name": "venv1",
   "language": "python",
   "name": "python3"
  },
  "language_info": {
   "codemirror_mode": {
    "name": "ipython",
    "version": 3
   },
   "file_extension": ".py",
   "mimetype": "text/x-python",
   "name": "python",
   "nbconvert_exporter": "python",
   "pygments_lexer": "ipython3",
   "version": "3.11.13"
  }
 },
 "nbformat": 4,
 "nbformat_minor": 5
}
