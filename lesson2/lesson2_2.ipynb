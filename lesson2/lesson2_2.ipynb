{
 "cells": [
  {
   "cell_type": "markdown",
   "id": "691fb5eb",
   "metadata": {},
   "source": [
    "### python 基礎"
   ]
  },
  {
   "cell_type": "code",
   "execution_count": 4,
   "id": "7b500f37",
   "metadata": {},
   "outputs": [
    {
     "name": "stdout",
     "output_type": "stream",
     "text": [
      "hello ! Python! \n"
     ]
    }
   ],
   "source": [
    "print(\"hello ! Python! \")"
   ]
  },
  {
   "cell_type": "code",
   "execution_count": 5,
   "id": "f016e046",
   "metadata": {},
   "outputs": [
    {
     "name": "stdout",
     "output_type": "stream",
     "text": [
      "Alice\n",
      "25\n",
      "1.65\n",
      "True\n"
     ]
    }
   ],
   "source": [
    "name = \"Alice\"         # 字串（string）\n",
    "age = 25               # 整數（integer）\n",
    "height = 1.65          # 浮點數（float）\n",
    "is_student = True      # 布林值（boolean）\n",
    "\n",
    "print(name)\n",
    "print(age)\n",
    "print(height)\n",
    "print(is_student)"
   ]
  },
  {
   "cell_type": "code",
   "execution_count": 6,
   "id": "8027e1f9",
   "metadata": {},
   "outputs": [
    {
     "name": "stdout",
     "output_type": "stream",
     "text": [
      "sum:  15\n"
     ]
    }
   ],
   "source": [
    "a=10\n",
    "b=5\n",
    "sum=a+b\n",
    "print(\"sum: \",sum)"
   ]
  },
  {
   "cell_type": "code",
   "execution_count": 7,
   "id": "30a43acf",
   "metadata": {},
   "outputs": [
    {
     "name": "stdout",
     "output_type": "stream",
     "text": [
      "100000\n"
     ]
    }
   ],
   "source": [
    "print(a**b)"
   ]
  },
  {
   "cell_type": "code",
   "execution_count": 8,
   "id": "65dbf3f1",
   "metadata": {},
   "outputs": [
    {
     "name": "stdout",
     "output_type": "stream",
     "text": [
      "10 5 15\n"
     ]
    }
   ],
   "source": [
    "print(a,b,sum)"
   ]
  },
  {
   "cell_type": "code",
   "execution_count": 10,
   "id": "39bf5825",
   "metadata": {},
   "outputs": [
    {
     "name": "stdout",
     "output_type": "stream",
     "text": [
      "hello*python?*Eileen!!\n"
     ]
    }
   ],
   "source": [
    "print(\"hello\",\"python?\",\"Eileen\",sep='*',end='!!\\n')"
   ]
  },
  {
   "cell_type": "markdown",
   "id": "39465a56",
   "metadata": {},
   "source": [
    "### import math  (module)"
   ]
  },
  {
   "cell_type": "code",
   "execution_count": 17,
   "id": "58fb4f03",
   "metadata": {},
   "outputs": [
    {
     "name": "stdout",
     "output_type": "stream",
     "text": [
      "0.6435011087932844\n",
      "弧度為：約 0.64 \n",
      "角度為：約 36.87 度\n",
      "角度為：約 36.87 度\n",
      "角度為：約 36.87 度\n",
      "37\n"
     ]
    }
   ],
   "source": [
    "import math\n",
    "\n",
    "# 已知：對邊 = 3，斜邊 = 5\n",
    "opposite = 3\n",
    "hypotenuse = 5\n",
    "\n",
    "# 求角度（使用 arcsin），結果為弧度\n",
    "theta_rad = math.asin(opposite / hypotenuse)\n",
    "print(theta_rad)\n",
    "# 將弧度轉成角度\n",
    "theta_deg = math.degrees(theta_rad)\n",
    "print(f\"弧度為：約 {theta_rad:.2f} \")\n",
    "print(f\"角度為：約 {theta_deg:.2f} 度\")\n",
    "\n",
    "print(\"角度為：約 {:.2f} 度\".format(theta_deg))\n",
    "print(\"角度為：約 %.2f 度\" % theta_deg)\n",
    "\n",
    "\n",
    "x=math.ceil(theta_deg)  #無條件進位\n",
    "print(x)\n"
   ]
  },
  {
   "cell_type": "markdown",
   "id": "a1557bb3",
   "metadata": {},
   "source": [
    "# 區塊\t說明\n",
    "- f\"...\"\tf-string（格式化字串），可以在字串中直接嵌入變數。\n",
    "- {theta_deg}\t把變數 theta_deg 的值插進字串裡。\n",
    "- {theta_deg:.2f}\t把 theta_deg 格式化成 浮點數，小數點後保留 2 位。\n",
    "- :.2f\t.2f 是格式規則：\n",
    "- f 表示浮點數，.2 表示保留 2 位小數。\n",
    "- print(...)\t將整個結果列印出來。"
   ]
  }
 ],
 "metadata": {
  "kernelspec": {
   "display_name": "venv1",
   "language": "python",
   "name": "python3"
  },
  "language_info": {
   "codemirror_mode": {
    "name": "ipython",
    "version": 3
   },
   "file_extension": ".py",
   "mimetype": "text/x-python",
   "name": "python",
   "nbconvert_exporter": "python",
   "pygments_lexer": "ipython3",
   "version": "3.11.13"
  }
 },
 "nbformat": 4,
 "nbformat_minor": 5
}
