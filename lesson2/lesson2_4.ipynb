{
 "cells": [
  {
   "cell_type": "code",
   "execution_count": 3,
   "id": "e546a596",
   "metadata": {},
   "outputs": [
    {
     "name": "stdout",
     "output_type": "stream",
     "text": [
      "you can vote!\n"
     ]
    }
   ],
   "source": [
    "age=18\n",
    "#單向選擇\n",
    "if age >=18:\n",
    "    print(\"you can vote!\")"
   ]
  },
  {
   "cell_type": "code",
   "execution_count": null,
   "id": "eabb2d1f",
   "metadata": {},
   "outputs": [
    {
     "name": "stdout",
     "output_type": "stream",
     "text": [
      "you are under 18, can't vote\n"
     ]
    }
   ],
   "source": [
    "age=17\n",
    "#雙向選擇\n",
    "if age >=18:\n",
    "    #true\n",
    "    print(\"you can vote!\")\n",
    "else:\n",
    "    #false\n",
    "    print(\"you are under 18, can't vote\")"
   ]
  },
  {
   "cell_type": "code",
   "execution_count": 7,
   "id": "3e3ae553",
   "metadata": {},
   "outputs": [
    {
     "name": "stdout",
     "output_type": "stream",
     "text": [
      "C\n"
     ]
    }
   ],
   "source": [
    "score=55\n",
    "#多向選擇\n",
    "if score >=90:\n",
    "    print(\"A\")\n",
    "elif score >=60:\n",
    "    print(\"B\")\n",
    "else:\n",
    "    print(\"C\")"
   ]
  }
 ],
 "metadata": {
  "kernelspec": {
   "display_name": "venv1",
   "language": "python",
   "name": "python3"
  },
  "language_info": {
   "codemirror_mode": {
    "name": "ipython",
    "version": 3
   },
   "file_extension": ".py",
   "mimetype": "text/x-python",
   "name": "python",
   "nbconvert_exporter": "python",
   "pygments_lexer": "ipython3",
   "version": "3.11.13"
  }
 },
 "nbformat": 4,
 "nbformat_minor": 5
}
